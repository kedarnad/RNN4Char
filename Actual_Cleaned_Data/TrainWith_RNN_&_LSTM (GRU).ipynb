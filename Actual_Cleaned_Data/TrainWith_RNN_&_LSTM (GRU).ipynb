{
 "cells": [
  {
   "cell_type": "markdown",
   "metadata": {},
   "source": [
    "# IMPORTING and processing 100 Sentences "
   ]
  },
  {
   "cell_type": "code",
   "execution_count": 1,
   "metadata": {},
   "outputs": [],
   "source": [
    "import pandas as pd\n",
    "import numpy as np\n",
    "import nltk, itertools\n",
    "from gensim.models import Word2Vec\n",
    "import nltk, os\n",
    "import tensorflow as tf\n",
    "import itertools\n",
    "import random"
   ]
  },
  {
   "cell_type": "code",
   "execution_count": 2,
   "metadata": {},
   "outputs": [],
   "source": [
    "#taking the original dataset:\n",
    "\n",
    "file_data = open('gh_create_all_fields_cleaned_data.txt', 'rt')\n",
    "# reading the sentences:\n",
    "sentences=file_data.read()\n",
    "sentences=sentences.split('\\n')"
   ]
  },
  {
   "cell_type": "code",
   "execution_count": 3,
   "metadata": {},
   "outputs": [],
   "source": [
    "# randomly slicing through 50 sentences in the dataset:\n",
    "train_sent=[]\n",
    "for i in range(120):\n",
    "    num = random.randrange(0, len(sentences))\n",
    "    train_sent.append(sentences[num])\n",
    "\n"
   ]
  },
  {
   "cell_type": "code",
   "execution_count": 5,
   "metadata": {},
   "outputs": [],
   "source": [
    " out, inp = [\" \".join(x.split()[1:]) for x in train_sent], [\" \".join(x.split()[:1]) for x in train_sent]"
   ]
  },
  {
   "cell_type": "markdown",
   "metadata": {},
   "source": [
    "# Converting the Code to an Acceptable format of Input:"
   ]
  },
  {
   "cell_type": "code",
   "execution_count": 6,
   "metadata": {},
   "outputs": [],
   "source": [
    "table_map=dict()\n",
    "out_map=dict()\n",
    "## looping through all the indexing of the table names\n",
    "for index, val in enumerate(out):\n",
    "    table_map[inp[index]]=out[index]\n",
    "    out_map[out[index]]=inp[index]\n",
    "train_sent=[]\n",
    "for key in table_map:\n",
    "    sent=\"$\"+key+\"&\"+\" \"+table_map[key]\n",
    "    train_sent.append(sent)"
   ]
  },
  {
   "cell_type": "markdown",
   "metadata": {},
   "source": [
    "# Code for Converting Index to Character and Character to Index"
   ]
  },
  {
   "cell_type": "code",
   "execution_count": 7,
   "metadata": {},
   "outputs": [],
   "source": [
    "char_data =\"\"\n",
    "\n",
    "for sent in train_sent:\n",
    "    char_data+=sent+\"\\n\"\n",
    "\n",
    "chars= list(set(char_data))\n",
    "\n",
    "#create dictionary mapping for each char\n",
    "char_to_ix = {ch:i for (i,ch) in enumerate(chars)}\n",
    "ix_to_char = {i:ch for (i,ch) in enumerate(chars)}"
   ]
  },
  {
   "cell_type": "markdown",
   "metadata": {},
   "source": [
    "# Get params for LSTM and RNN Algorithm Modules"
   ]
  },
  {
   "cell_type": "code",
   "execution_count": 8,
   "metadata": {},
   "outputs": [],
   "source": [
    "def get_lstm_params(vocab_size, num_hiddens):\n",
    "    num_inputs = num_outputs = vocab_size\n",
    "\n",
    "    def normal(shape):\n",
    "        return tf.random.normal(shape=shape, stddev=0.01, mean=0,\n",
    "                                dtype=tf.float32)\n",
    "\n",
    "    def three():\n",
    "        return (tf.Variable(normal((num_inputs, num_hiddens)),\n",
    "                            dtype=tf.float32),\n",
    "                tf.Variable(normal((num_hiddens, num_hiddens)),\n",
    "                            dtype=tf.float32),\n",
    "                tf.Variable(tf.zeros(num_hiddens), dtype=tf.float32))\n",
    "\n",
    "    W_xz, W_hz, b_z = three()  # Update gate parameters\n",
    "    W_xr, W_hr, b_r = three()  # Reset gate parameters\n",
    "    W_xh, W_hh, b_h = three()  # Candidate hidden state parameters\n",
    "    # Output layer parameters\n",
    "    W_hq = tf.Variable(normal((num_hiddens, num_outputs)), dtype=tf.float32)\n",
    "    b_q = tf.Variable(tf.zeros(num_outputs), dtype=tf.float32)\n",
    "    params = [W_xz, W_hz, b_z, W_xr, W_hr, b_r, W_xh, W_hh, b_h, W_hq, b_q]\n",
    "    return params"
   ]
  },
  {
   "cell_type": "code",
   "execution_count": 10,
   "metadata": {},
   "outputs": [],
   "source": [
    "# defining a function for getting all the parameters:\n",
    "def get_rnn_params(vocab_size, num_hidden):\n",
    "    num_inputs = num_outputs = vocab_size\n",
    "\n",
    "    def normal(shape):\n",
    "        return tf.random.normal(shape=shape,stddev=0.01,mean=0,dtype=tf.float32)\n",
    "\n",
    "    # Hidden layer parameters\n",
    "    E = tf.Variable(normal((vocab_size, 10)), dtype=tf.float32)\n",
    "    W_xh = tf.Variable(normal((num_inputs, num_hiddens)), dtype=tf.float32)\n",
    "    W_hh = tf.Variable(normal((num_hiddens, num_hiddens)), dtype=tf.float32)\n",
    "    b_h = tf.Variable(tf.zeros(num_hiddens), dtype=tf.float32)\n",
    "    # Output layer parameters\n",
    "    W_hq = tf.Variable(normal((num_hiddens, num_outputs)), dtype=tf.float32)\n",
    "    b_q = tf.Variable(tf.zeros(num_outputs), dtype=tf.float32)\n",
    "    M = tf.Variable(tf.random.uniform([W_xh.shape[1], vocab_size], dtype=tf.float32))\n",
    "    params = [W_xh, W_hh, b_h, W_hq, b_q, E, M]\n",
    "#     params = [W_xh, W_hh, b_h, W_hq, b_q]\n",
    "    return params"
   ]
  },
  {
   "cell_type": "code",
   "execution_count": 11,
   "metadata": {},
   "outputs": [],
   "source": [
    "def tensorVectorConversion(arg):\n",
    "    arg = tf.convert_to_tensor(arg, dtype=tf.float32)\n",
    "    return arg"
   ]
  },
  {
   "cell_type": "code",
   "execution_count": 12,
   "metadata": {},
   "outputs": [],
   "source": [
    "def init_gru_state(batch_size, num_hiddens):\n",
    "    return (tf.zeros((batch_size, num_hiddens)),)"
   ]
  },
  {
   "cell_type": "code",
   "execution_count": 13,
   "metadata": {},
   "outputs": [],
   "source": [
    "def init_rnn_state2(batch_size, num_hiddens):\n",
    "    return (tf.zeros((batch_size, num_hiddens)), )\n"
   ]
  },
  {
   "cell_type": "markdown",
   "metadata": {},
   "source": [
    "# Implementing the forward prop of both the LSTM and RNN"
   ]
  },
  {
   "cell_type": "code",
   "execution_count": 35,
   "metadata": {},
   "outputs": [],
   "source": [
    "def rnn2(inputs, state, params, curr_sent, vocab_size, word2vec_model):\n",
    "    # Here `inputs` shape: (`num_steps`, `batch_size`, `vocab_size`)\n",
    "    W_xh, W_hh, b_h, W_hq, b_q,E, M = params\n",
    "    \n",
    "    # calculating the values from the encoder function\n",
    "    result=tf.zeros([vocab_size, 1], tf.float32)\n",
    "    for every_char in curr_sent:\n",
    "        tfcharEmb = tensorVectorConversion(word2vec_model[every_char])\n",
    "        tfcharEmb=tf.reshape(tfcharEmb, [10, 1])\n",
    "        result+= tf.matmul(E, tfcharEmb)\n",
    "        \n",
    "#     M=tf.random.uniform([W_xh.shape[1], vocab_size], dtype=tf.float32)\n",
    "    H, = state\n",
    "    outputs = []\n",
    "    # Shape of `X`: (`batch_size`, `vocab_size`)\n",
    "    for X in inputs:\n",
    "        \n",
    "        \n",
    "#         print(\"input\",X.shape)\n",
    "        X = tf.reshape(X,[-1,W_xh.shape[0]])\n",
    "        a= tf.matmul(X, W_xh)\n",
    "        b= tf.matmul(H, W_hh)\n",
    "        c = tf.matmul(M, result)\n",
    "        c =  tf.reshape(c, [c.shape[1], c.shape[0]])\n",
    "        H = tf.nn.sigmoid(a + b + c + b_h, name='sigmoid')\n",
    "        Y = tf.matmul(H, W_hq) + b_q\n",
    "        y_out = tf.nn.softmax(Y)\n",
    "#         print(\"Yshape\",Y.shape)\n",
    "        outputs.append(y_out)\n",
    "    return tf.concat(outputs, axis=0), (H,)"
   ]
  },
  {
   "cell_type": "code",
   "execution_count": 36,
   "metadata": {},
   "outputs": [],
   "source": [
    "def gru_train_forward_prop(inputs, state, params, vocab_size):\n",
    "    W_xz, W_hz, b_z, W_xr, W_hr, b_r, W_xh, W_hh, b_h, W_hq, b_q = params\n",
    "    H, = state\n",
    "    outputs = []\n",
    "    for X in inputs:\n",
    "        X = tf.reshape(X, [-1, W_xh.shape[0]])\n",
    "        Z = tf.sigmoid(tf.matmul(X, W_xz) + tf.matmul(H, W_hz) + b_z)\n",
    "        R = tf.sigmoid(tf.matmul(X, W_xr) + tf.matmul(H, W_hr) + b_r)\n",
    "        H_tilda = tf.tanh(tf.matmul(X, W_xh) + tf.matmul(R * H, W_hh) + b_h)\n",
    "        H = Z * H + (1 - Z) * H_tilda\n",
    "        Y = tf.matmul(H, W_hq) + b_q\n",
    "        y_out = tf.nn.softmax(Y)\n",
    "        outputs.append(y_out)\n",
    "    return tf.concat(outputs, axis=0), (H,)\n",
    "\n"
   ]
  },
  {
   "cell_type": "markdown",
   "metadata": {},
   "source": [
    "# Defining the LSTM and RNN modules"
   ]
  },
  {
   "cell_type": "code",
   "execution_count": 37,
   "metadata": {},
   "outputs": [],
   "source": [
    "class RNNModelScratch2: #@save\n",
    "    \"\"\"A RNN Model implemented from scratch.\"\"\"\n",
    "    def __init__(self, vocab_size, num_hiddens,\n",
    "                 init_state, forward_fn, word2vec):\n",
    "        self.vocab_size, self.num_hiddens = vocab_size, num_hiddens\n",
    "        self.init_state, self.forward_fn = init_state, forward_fn\n",
    "        self.word2vec=word2vec\n",
    "\n",
    "    def __call__(self, X, state, params, curr_sent):\n",
    "        X = tf.one_hot(tf.transpose(X), self.vocab_size)\n",
    "        X = tf.cast(X, tf.float32)\n",
    "        return self.forward_fn(X, state, params, curr_sent, self.vocab_size, self.word2vec)\n",
    "\n",
    "    def begin_state(self, batch_size):\n",
    "        return self.init_state (batch_size, self.num_hiddens)\n",
    "    "
   ]
  },
  {
   "cell_type": "code",
   "execution_count": 38,
   "metadata": {},
   "outputs": [],
   "source": [
    "class LSTMModelScratch: #@save\n",
    "    \"\"\"A RNN Model implemented from scratch.\"\"\"\n",
    "    def __init__(self, vocab_size, num_hiddens,\n",
    "                 init_state, forward_fn, word2vec):\n",
    "        self.vocab_size, self.num_hiddens = vocab_size, num_hiddens\n",
    "        self.init_state, self.forward_fn = init_state, forward_fn\n",
    "        self.word2vec=word2vec\n",
    "\n",
    "    def __call__(self, X, state, params, curr_sent):\n",
    "        X = tf.one_hot(tf.transpose(X), self.vocab_size)\n",
    "        X = tf.cast(X, tf.float32)\n",
    "        return self.forward_fn(X, state, params, self.vocab_size)\n",
    "\n",
    "    def begin_state(self, batch_size):\n",
    "        return self.init_state (batch_size, self.num_hiddens)"
   ]
  },
  {
   "cell_type": "markdown",
   "metadata": {},
   "source": [
    "# Different training modules for RNN and LSTM respectively"
   ]
  },
  {
   "cell_type": "code",
   "execution_count": 39,
   "metadata": {},
   "outputs": [],
   "source": [
    "def train(model, params, table_map, char_to_ix, ix_to_char):\n",
    "    \"traing the modified model\"\n",
    "    state=None\n",
    "    \n",
    "    threshold = 0.05\n",
    "    lr=1\n",
    "    loss = tf.keras.losses.CategoricalCrossentropy()\n",
    "    updater = tf.keras.optimizers.SGD(lr)\n",
    "    optimizer = tf.keras.optimizers.Adam()\n",
    "    loss_res=[] # storage for the resultant loss\n",
    "    loss_epochs = [] #keeping of the loss per epoch\n",
    "    epochs = 1200\n",
    "#     metric = d2l.Accumulator(2)\n",
    "#     timer=d2l.Timer()\n",
    "    \n",
    "    \n",
    "    while epochs>0:\n",
    "        \n",
    "        loss_per_epoch=0\n",
    "        \n",
    "        for every_table in table_map:\n",
    "            \n",
    "            #padding the current word\n",
    "            target_word = \"$\"+every_table+\"&\"\n",
    "#             print(\"target word -> \",target_word)\n",
    "            \n",
    "            input_str = target_word[0:len(target_word)-1]\n",
    "            target_str = target_word[1:len(target_word)]\n",
    "            \n",
    "            inputs = [char_to_ix[ch] for ch in input_str]\n",
    "            targets = [char_to_ix[ch] for ch in target_str]\n",
    "            \n",
    "            X = tf.reshape(tf.Variable(inputs), (1, len(inputs)))\n",
    "            Y_out = tf.reshape(tf.Variable(targets), (1, len(targets)))\n",
    "            Y_true=tf.one_hot(Y_out, len(char_to_ix),on_value=1.0, off_value=0.0,axis=-1)\n",
    "            Y_true=Y_true[0];\n",
    "            \n",
    "            \n",
    "            # The actual crux of training the data:\n",
    "            \n",
    "            if state is None:\n",
    "                \n",
    "                state = model.begin_state(batch_size=X.shape[0])\n",
    "                \n",
    "            with tf.GradientTape(persistent=True) as g:\n",
    "#                 print('I am here 1')\n",
    "                g.watch(params)\n",
    "                y_hat, state= model(X, state, params, table_map[every_table])\n",
    "                y = tf.reshape(Y_out, (-1))\n",
    "                axis_0 = np.shape(y_hat.numpy())[0]\n",
    "                axis_1 = np.shape(y_hat.numpy())[1]\n",
    "                Y_true=tf.reshape(Y_true, [axis_0, axis_1])\n",
    "                # calculating the loss\n",
    "                l = loss(Y_true, y_hat)\n",
    "                \n",
    "#             print(l)\n",
    "            \n",
    "#             print('I am here 2')\n",
    "            grads = g.gradient(l, params)\n",
    "            grads = grad_clipping(grads, 1)\n",
    "            optimizer.apply_gradients(zip(grads, params))\n",
    "#             updater.apply_gradients(zip(grads, params))\n",
    "#             print('I am here 3')\n",
    "#             metric.add(l * tf.size(y).numpy(), tf.size(y).numpy())\n",
    "            loss_per_epoch=l\n",
    "        \n",
    "        if epochs%10==0:\n",
    "            print(\"Total Epochs Covered: \", epochs, \" Loss Value: \", loss_per_epoch)\n",
    "            \n",
    "        # after every epoch\n",
    "        loss_epochs.append(loss_per_epoch)\n",
    "#         loss_res.append(math.exp(metric[0] / metric[1]))\n",
    "        epochs=epochs-1\n",
    "    return loss_epochs\n"
   ]
  },
  {
   "cell_type": "code",
   "execution_count": 44,
   "metadata": {},
   "outputs": [],
   "source": [
    "def train_network(model, params, table_map, char_to_ix, ix_to_char):\n",
    "    \"traing the modified model\"\n",
    "    state=None\n",
    "    \n",
    "    threshold = 0.05\n",
    "    lr=0.01\n",
    "    loss = tf.keras.losses.CategoricalCrossentropy()\n",
    "    updater = tf.keras.optimizers.SGD(lr)\n",
    "    optimizer = tf.keras.optimizers.Adam()\n",
    "    loss_res=[] # storage for the resultant loss\n",
    "    loss_epochs = [] #keeping of the loss per epoch\n",
    "    epochs = 1200\n",
    "    \n",
    "    while epochs>0:\n",
    "        \n",
    "        loss_per_epoch=0\n",
    "        \n",
    "        for every_table in table_map:\n",
    "            \n",
    "            #padding the current word\n",
    "            target_word = \"$\"+every_table+\"&\"\n",
    "            \n",
    "            input_str = target_word[0:len(target_word)-1]\n",
    "            target_str = target_word[1:len(target_word)]\n",
    "            \n",
    "            inputs = [char_to_ix[ch] for ch in input_str]\n",
    "            targets = [char_to_ix[ch] for ch in target_str]\n",
    "            \n",
    "            X = tf.reshape(tf.Variable(inputs), (1, len(inputs)))\n",
    "            Y_out = tf.reshape(tf.Variable(targets), (1, len(targets)))\n",
    "            Y_true=tf.one_hot(Y_out, len(char_to_ix),on_value=1.0, off_value=0.0,axis=-1)\n",
    "            Y_true=Y_true[0];\n",
    "            \n",
    "            \n",
    "            # The actual crux of training the data:\n",
    "            \n",
    "            if state is None:\n",
    "                \n",
    "                state = model.begin_state(batch_size=X.shape[0])\n",
    "                \n",
    "            with tf.GradientTape(persistent=True) as g:\n",
    "#                 print('I am here 1')\n",
    "                g.watch(params)\n",
    "                y_hat, state= model(X, state, params, table_map[every_table])\n",
    "                y = tf.reshape(Y_out, (-1))\n",
    "                axis_0 = np.shape(y_hat.numpy())[0]\n",
    "                axis_1 = np.shape(y_hat.numpy())[1]\n",
    "                Y_true=tf.reshape(Y_true, [axis_0, axis_1])\n",
    "                # calculating the loss\n",
    "                l = loss(Y_true, y_hat)\n",
    "            \n",
    "            grads = g.gradient(l, params)\n",
    "            grads = grad_clipping(grads, 1)\n",
    "            optimizer.apply_gradients(zip(grads, params))\n",
    "#             updater.apply_gradients(zip(grads, params))\n",
    "#             metric.add(l * tf.size(y).numpy(), tf.size(y).numpy())\n",
    "            loss_per_epoch=l\n",
    "        \n",
    "        if epochs%10==0:\n",
    "            print(\"Total Epochs Covered: \", epochs, \" Loss Value: \", loss_per_epoch)\n",
    "        # after every epoch\n",
    "        loss_epochs.append(loss_per_epoch)\n",
    "#         loss_res.append(math.exp(metric[0] / metric[1]))\n",
    "        epochs=epochs-1\n",
    "    return loss_epochs"
   ]
  },
  {
   "cell_type": "markdown",
   "metadata": {},
   "source": [
    "# Gradient Clipping Algorithm"
   ]
  },
  {
   "cell_type": "code",
   "execution_count": 45,
   "metadata": {},
   "outputs": [],
   "source": [
    "def grad_clipping(grads, theta): #@save\n",
    "    \"\"\"Clip the gradient.\"\"\"\n",
    "    theta = tf.constant(theta, dtype=tf.float32)\n",
    "    norm = tf.math.sqrt(sum((tf.reduce_sum(grad ** 2)).numpy()\n",
    "                        for grad in grads))\n",
    "#     print(norm)\n",
    "    norm = tf.cast(norm, tf.float32)\n",
    "    new_grad = []\n",
    "    if tf.greater(norm, theta):\n",
    "        for grad in grads:\n",
    "            new_grad.append(grad * theta / norm)\n",
    "    else:\n",
    "        for grad in grads:\n",
    "            new_grad.append(grad)\n",
    "    return new_grad"
   ]
  },
  {
   "cell_type": "markdown",
   "metadata": {},
   "source": [
    "# Defining the Character Embedding Module "
   ]
  },
  {
   "cell_type": "code",
   "execution_count": 46,
   "metadata": {},
   "outputs": [],
   "source": [
    "# functions to calculate word tokenizations and tokenizers:\n",
    "# which would be later used for calculating the word to \n",
    "\n",
    "def filter_words(sentence):\n",
    "    ll = [[nltk.word_tokenize(w), ' '] for w in sentence.split()]\n",
    "#     print(list(itertools.chain(*list(itertools.chain(*ll)))))\n",
    "#     return [word.lower() if word.isalpha() else \" \" for word in [nltk.word_tokenize(sentence), \" \"]]\n",
    "    return list(itertools.chain(*list(itertools.chain(*ll))))\n",
    "\n",
    "def tokenize(text):\n",
    "    return [filter_words(sentence) for sentence in nltk.sent_tokenize(text)]\n",
    "\n",
    "\n",
    "tokenized_words=[]\n",
    "sent_data=[]\n",
    "for sentence in out:\n",
    "    sent_mod=''\n",
    "    for char in sentence:\n",
    "        sent_mod+=char+' ' \n",
    "#     print(sent_mod)\n",
    "#     print(nltk.sent_tokenize(sent_mod))\n",
    "    tokenized_words.extend(tokenize(sent_mod))\n",
    "    sent_data.append(sentence)\n",
    "\n",
    "word2vec_model = Word2Vec(tokenized_words, \n",
    "                          sg=1,  # here we will use skipgram 0 is for CBROW; skip gram is for smaller models \n",
    "                          size=10,\n",
    "                          min_count=1 # word needs to occur atleast once\n",
    "                         )\n",
    "\n"
   ]
  },
  {
   "cell_type": "markdown",
   "metadata": {},
   "source": [
    "# RNN training"
   ]
  },
  {
   "cell_type": "code",
   "execution_count": 47,
   "metadata": {},
   "outputs": [
    {
     "name": "stderr",
     "output_type": "stream",
     "text": [
      "/Users/kedargn94/anaconda3/lib/python3.7/site-packages/ipykernel_launcher.py:8: DeprecationWarning: Call to deprecated `__getitem__` (Method will be removed in 4.0.0, use self.wv.__getitem__() instead).\n",
      "  \n"
     ]
    },
    {
     "name": "stdout",
     "output_type": "stream",
     "text": [
      "Total Epochs Covered:  1200  Loss Value:  tf.Tensor(3.034361, shape=(), dtype=float32)\n",
      "Total Epochs Covered:  1190  Loss Value:  tf.Tensor(3.4311976, shape=(), dtype=float32)\n",
      "Total Epochs Covered:  1180  Loss Value:  tf.Tensor(2.918927, shape=(), dtype=float32)\n",
      "Total Epochs Covered:  1170  Loss Value:  tf.Tensor(2.1391492, shape=(), dtype=float32)\n",
      "Total Epochs Covered:  1160  Loss Value:  tf.Tensor(2.060493, shape=(), dtype=float32)\n",
      "Total Epochs Covered:  1150  Loss Value:  tf.Tensor(2.6624956, shape=(), dtype=float32)\n",
      "Total Epochs Covered:  1140  Loss Value:  tf.Tensor(2.8136683, shape=(), dtype=float32)\n",
      "Total Epochs Covered:  1130  Loss Value:  tf.Tensor(1.2950535, shape=(), dtype=float32)\n",
      "Total Epochs Covered:  1120  Loss Value:  tf.Tensor(1.170506, shape=(), dtype=float32)\n",
      "Total Epochs Covered:  1110  Loss Value:  tf.Tensor(0.32068306, shape=(), dtype=float32)\n",
      "Total Epochs Covered:  1100  Loss Value:  tf.Tensor(0.13825509, shape=(), dtype=float32)\n",
      "Total Epochs Covered:  1090  Loss Value:  tf.Tensor(0.052949883, shape=(), dtype=float32)\n",
      "Total Epochs Covered:  1080  Loss Value:  tf.Tensor(0.012677205, shape=(), dtype=float32)\n",
      "Total Epochs Covered:  1070  Loss Value:  tf.Tensor(0.0032288476, shape=(), dtype=float32)\n",
      "Total Epochs Covered:  1060  Loss Value:  tf.Tensor(0.0015750605, shape=(), dtype=float32)\n",
      "Total Epochs Covered:  1050  Loss Value:  tf.Tensor(0.011934055, shape=(), dtype=float32)\n",
      "Total Epochs Covered:  1040  Loss Value:  tf.Tensor(0.0061537763, shape=(), dtype=float32)\n",
      "Total Epochs Covered:  1030  Loss Value:  tf.Tensor(0.0047838883, shape=(), dtype=float32)\n",
      "Total Epochs Covered:  1020  Loss Value:  tf.Tensor(0.0052470467, shape=(), dtype=float32)\n",
      "Total Epochs Covered:  1010  Loss Value:  tf.Tensor(0.011865853, shape=(), dtype=float32)\n",
      "Total Epochs Covered:  1000  Loss Value:  tf.Tensor(0.0023753014, shape=(), dtype=float32)\n",
      "Total Epochs Covered:  990  Loss Value:  tf.Tensor(0.13160488, shape=(), dtype=float32)\n",
      "Total Epochs Covered:  980  Loss Value:  tf.Tensor(0.0070716487, shape=(), dtype=float32)\n",
      "Total Epochs Covered:  970  Loss Value:  tf.Tensor(0.006151975, shape=(), dtype=float32)\n",
      "Total Epochs Covered:  960  Loss Value:  tf.Tensor(0.001923736, shape=(), dtype=float32)\n",
      "Total Epochs Covered:  950  Loss Value:  tf.Tensor(0.27157322, shape=(), dtype=float32)\n",
      "Total Epochs Covered:  940  Loss Value:  tf.Tensor(0.004629208, shape=(), dtype=float32)\n",
      "Total Epochs Covered:  930  Loss Value:  tf.Tensor(0.00018252774, shape=(), dtype=float32)\n",
      "Total Epochs Covered:  920  Loss Value:  tf.Tensor(0.0013070777, shape=(), dtype=float32)\n",
      "Total Epochs Covered:  910  Loss Value:  tf.Tensor(0.00012946068, shape=(), dtype=float32)\n",
      "Total Epochs Covered:  900  Loss Value:  tf.Tensor(0.0005091164, shape=(), dtype=float32)\n",
      "Total Epochs Covered:  890  Loss Value:  tf.Tensor(0.0001266929, shape=(), dtype=float32)\n",
      "Total Epochs Covered:  880  Loss Value:  tf.Tensor(0.00051115826, shape=(), dtype=float32)\n",
      "Total Epochs Covered:  870  Loss Value:  tf.Tensor(0.000106860265, shape=(), dtype=float32)\n",
      "Total Epochs Covered:  860  Loss Value:  tf.Tensor(0.002081695, shape=(), dtype=float32)\n",
      "Total Epochs Covered:  850  Loss Value:  tf.Tensor(1.4961004e-05, shape=(), dtype=float32)\n",
      "Total Epochs Covered:  840  Loss Value:  tf.Tensor(7.842133e-05, shape=(), dtype=float32)\n",
      "Total Epochs Covered:  830  Loss Value:  tf.Tensor(0.00048908417, shape=(), dtype=float32)\n",
      "Total Epochs Covered:  820  Loss Value:  tf.Tensor(0.00086604245, shape=(), dtype=float32)\n",
      "Total Epochs Covered:  810  Loss Value:  tf.Tensor(1.15038465e-05, shape=(), dtype=float32)\n",
      "Total Epochs Covered:  800  Loss Value:  tf.Tensor(3.339178e-05, shape=(), dtype=float32)\n",
      "Total Epochs Covered:  790  Loss Value:  tf.Tensor(0.00064873125, shape=(), dtype=float32)\n",
      "Total Epochs Covered:  780  Loss Value:  tf.Tensor(2.985174e-05, shape=(), dtype=float32)\n",
      "Total Epochs Covered:  770  Loss Value:  tf.Tensor(7.705584e-05, shape=(), dtype=float32)\n",
      "Total Epochs Covered:  760  Loss Value:  tf.Tensor(2.1684777e-05, shape=(), dtype=float32)\n",
      "Total Epochs Covered:  750  Loss Value:  tf.Tensor(6.5510256e-05, shape=(), dtype=float32)\n",
      "Total Epochs Covered:  740  Loss Value:  tf.Tensor(0.0009951541, shape=(), dtype=float32)\n",
      "Total Epochs Covered:  730  Loss Value:  tf.Tensor(2.0767151e-05, shape=(), dtype=float32)\n",
      "Total Epochs Covered:  720  Loss Value:  tf.Tensor(3.111544e-05, shape=(), dtype=float32)\n",
      "Total Epochs Covered:  710  Loss Value:  tf.Tensor(2.843299e-05, shape=(), dtype=float32)\n",
      "Total Epochs Covered:  700  Loss Value:  tf.Tensor(8.344795e-06, shape=(), dtype=float32)\n",
      "Total Epochs Covered:  690  Loss Value:  tf.Tensor(0.00032051915, shape=(), dtype=float32)\n",
      "Total Epochs Covered:  680  Loss Value:  tf.Tensor(8.475864e-06, shape=(), dtype=float32)\n",
      "Total Epochs Covered:  670  Loss Value:  tf.Tensor(0.032481425, shape=(), dtype=float32)\n",
      "Total Epochs Covered:  660  Loss Value:  tf.Tensor(2.8252684e-06, shape=(), dtype=float32)\n",
      "Total Epochs Covered:  650  Loss Value:  tf.Tensor(5.7101624e-06, shape=(), dtype=float32)\n",
      "Total Epochs Covered:  640  Loss Value:  tf.Tensor(0.0010245234, shape=(), dtype=float32)\n",
      "Total Epochs Covered:  630  Loss Value:  tf.Tensor(2.477286e-05, shape=(), dtype=float32)\n",
      "Total Epochs Covered:  620  Loss Value:  tf.Tensor(7.5102953e-06, shape=(), dtype=float32)\n",
      "Total Epochs Covered:  610  Loss Value:  tf.Tensor(2.2221107e-05, shape=(), dtype=float32)\n",
      "Total Epochs Covered:  600  Loss Value:  tf.Tensor(1.480606e-05, shape=(), dtype=float32)\n",
      "Total Epochs Covered:  590  Loss Value:  tf.Tensor(3.3974782e-06, shape=(), dtype=float32)\n",
      "Total Epochs Covered:  580  Loss Value:  tf.Tensor(1.4901188e-06, shape=(), dtype=float32)\n",
      "Total Epochs Covered:  570  Loss Value:  tf.Tensor(0.010289641, shape=(), dtype=float32)\n",
      "Total Epochs Covered:  560  Loss Value:  tf.Tensor(2.9087196e-06, shape=(), dtype=float32)\n",
      "Total Epochs Covered:  550  Loss Value:  tf.Tensor(5.245212e-07, shape=(), dtype=float32)\n",
      "Total Epochs Covered:  540  Loss Value:  tf.Tensor(1.0764723e-05, shape=(), dtype=float32)\n",
      "Total Epochs Covered:  530  Loss Value:  tf.Tensor(0.00018932723, shape=(), dtype=float32)\n",
      "Total Epochs Covered:  520  Loss Value:  tf.Tensor(6.5207832e-06, shape=(), dtype=float32)\n",
      "Total Epochs Covered:  510  Loss Value:  tf.Tensor(9.298334e-07, shape=(), dtype=float32)\n",
      "Total Epochs Covered:  500  Loss Value:  tf.Tensor(0.0003028891, shape=(), dtype=float32)\n",
      "Total Epochs Covered:  490  Loss Value:  tf.Tensor(6.2439576e-05, shape=(), dtype=float32)\n",
      "Total Epochs Covered:  480  Loss Value:  tf.Tensor(0.059670914, shape=(), dtype=float32)\n",
      "Total Epochs Covered:  470  Loss Value:  tf.Tensor(9.89439e-07, shape=(), dtype=float32)\n",
      "Total Epochs Covered:  460  Loss Value:  tf.Tensor(0.00079176, shape=(), dtype=float32)\n",
      "Total Epochs Covered:  450  Loss Value:  tf.Tensor(1.9658557e-05, shape=(), dtype=float32)\n",
      "Total Epochs Covered:  440  Loss Value:  tf.Tensor(1.4639317e-05, shape=(), dtype=float32)\n",
      "Total Epochs Covered:  430  Loss Value:  tf.Tensor(2.815825e-05, shape=(), dtype=float32)\n",
      "Total Epochs Covered:  420  Loss Value:  tf.Tensor(6.854584e-06, shape=(), dtype=float32)\n",
      "Total Epochs Covered:  410  Loss Value:  tf.Tensor(5.1022066e-06, shape=(), dtype=float32)\n",
      "Total Epochs Covered:  400  Loss Value:  tf.Tensor(1.6927779e-06, shape=(), dtype=float32)\n",
      "Total Epochs Covered:  390  Loss Value:  tf.Tensor(7.283772e-06, shape=(), dtype=float32)\n",
      "Total Epochs Covered:  380  Loss Value:  tf.Tensor(6.437308e-07, shape=(), dtype=float32)\n",
      "Total Epochs Covered:  370  Loss Value:  tf.Tensor(2.2649769e-07, shape=(), dtype=float32)\n",
      "Total Epochs Covered:  360  Loss Value:  tf.Tensor(6.806923e-06, shape=(), dtype=float32)\n",
      "Total Epochs Covered:  350  Loss Value:  tf.Tensor(8.642766e-06, shape=(), dtype=float32)\n",
      "Total Epochs Covered:  340  Loss Value:  tf.Tensor(0.00013960456, shape=(), dtype=float32)\n",
      "Total Epochs Covered:  330  Loss Value:  tf.Tensor(1.658262e-05, shape=(), dtype=float32)\n",
      "Total Epochs Covered:  320  Loss Value:  tf.Tensor(1.444841e-05, shape=(), dtype=float32)\n",
      "Total Epochs Covered:  310  Loss Value:  tf.Tensor(3.9818297e-05, shape=(), dtype=float32)\n",
      "Total Epochs Covered:  300  Loss Value:  tf.Tensor(2.9564019e-06, shape=(), dtype=float32)\n",
      "Total Epochs Covered:  290  Loss Value:  tf.Tensor(4.458454e-06, shape=(), dtype=float32)\n"
     ]
    },
    {
     "name": "stdout",
     "output_type": "stream",
     "text": [
      "Total Epochs Covered:  280  Loss Value:  tf.Tensor(3.0196645e-05, shape=(), dtype=float32)\n",
      "Total Epochs Covered:  270  Loss Value:  tf.Tensor(2.2293094e-05, shape=(), dtype=float32)\n",
      "Total Epochs Covered:  260  Loss Value:  tf.Tensor(4.5776724e-06, shape=(), dtype=float32)\n",
      "Total Epochs Covered:  250  Loss Value:  tf.Tensor(3.5240573e-05, shape=(), dtype=float32)\n",
      "Total Epochs Covered:  240  Loss Value:  tf.Tensor(1.3566302e-05, shape=(), dtype=float32)\n",
      "Total Epochs Covered:  230  Loss Value:  tf.Tensor(0.001371428, shape=(), dtype=float32)\n",
      "Total Epochs Covered:  220  Loss Value:  tf.Tensor(3.5762793e-07, shape=(), dtype=float32)\n",
      "Total Epochs Covered:  210  Loss Value:  tf.Tensor(2.7193257e-05, shape=(), dtype=float32)\n",
      "Total Epochs Covered:  200  Loss Value:  tf.Tensor(1.7798624e-05, shape=(), dtype=float32)\n",
      "Total Epochs Covered:  190  Loss Value:  tf.Tensor(5.0799328e-05, shape=(), dtype=float32)\n",
      "Total Epochs Covered:  180  Loss Value:  tf.Tensor(2.6702937e-06, shape=(), dtype=float32)\n",
      "Total Epochs Covered:  170  Loss Value:  tf.Tensor(7.796394e-06, shape=(), dtype=float32)\n",
      "Total Epochs Covered:  160  Loss Value:  tf.Tensor(0.00012371999, shape=(), dtype=float32)\n",
      "Total Epochs Covered:  150  Loss Value:  tf.Tensor(2.2662629e-05, shape=(), dtype=float32)\n",
      "Total Epochs Covered:  140  Loss Value:  tf.Tensor(1.2553015e-05, shape=(), dtype=float32)\n",
      "Total Epochs Covered:  130  Loss Value:  tf.Tensor(7.4625946e-06, shape=(), dtype=float32)\n",
      "Total Epochs Covered:  120  Loss Value:  tf.Tensor(4.4703806e-06, shape=(), dtype=float32)\n",
      "Total Epochs Covered:  110  Loss Value:  tf.Tensor(2.717983e-06, shape=(), dtype=float32)\n",
      "Total Epochs Covered:  100  Loss Value:  tf.Tensor(1.668934e-06, shape=(), dtype=float32)\n",
      "Total Epochs Covered:  90  Loss Value:  tf.Tensor(1.0371223e-06, shape=(), dtype=float32)\n",
      "Total Epochs Covered:  80  Loss Value:  tf.Tensor(6.318097e-07, shape=(), dtype=float32)\n",
      "Total Epochs Covered:  70  Loss Value:  tf.Tensor(4.2915366e-07, shape=(), dtype=float32)\n",
      "Total Epochs Covered:  60  Loss Value:  tf.Tensor(2.8610236e-07, shape=(), dtype=float32)\n",
      "Total Epochs Covered:  50  Loss Value:  tf.Tensor(2.0265581e-07, shape=(), dtype=float32)\n",
      "Total Epochs Covered:  40  Loss Value:  tf.Tensor(1.6689302e-07, shape=(), dtype=float32)\n",
      "Total Epochs Covered:  30  Loss Value:  tf.Tensor(1.3113022e-07, shape=(), dtype=float32)\n",
      "Total Epochs Covered:  20  Loss Value:  tf.Tensor(1.1920929e-07, shape=(), dtype=float32)\n",
      "Total Epochs Covered:  10  Loss Value:  tf.Tensor(1.1920929e-07, shape=(), dtype=float32)\n"
     ]
    }
   ],
   "source": [
    "num_hiddens = 512        # declaration of number of hidden layers\n",
    "lr=0.1                   # declaration of regularization parameter\n",
    "seq_len=10               # this is a sequence length\n",
    "updater = tf.keras.optimizers.SGD(lr)\n",
    "# data_reader = DataReader(\"temp.txt\", seq_len)\n",
    "#defining the required params:\n",
    "rnn_params = get_params2(len(chars), num_hiddens)\n",
    "\n",
    "rnn_model=RNNModelScratch2(len(chars), num_hiddens, init_rnn_state2, rnn2, word2vec_model)\n",
    "rnn_loss_res =train(rnn_model, rnn_params, table_map, char_to_ix, ix_to_char)"
   ]
  },
  {
   "cell_type": "markdown",
   "metadata": {},
   "source": [
    "# LSTM Training"
   ]
  },
  {
   "cell_type": "code",
   "execution_count": 49,
   "metadata": {},
   "outputs": [
    {
     "name": "stdout",
     "output_type": "stream",
     "text": [
      "Total Epochs Covered:  1200  Loss Value:  tf.Tensor(3.0462298, shape=(), dtype=float32)\n",
      "Total Epochs Covered:  1190  Loss Value:  tf.Tensor(1.8766019, shape=(), dtype=float32)\n",
      "Total Epochs Covered:  1180  Loss Value:  tf.Tensor(0.9020842, shape=(), dtype=float32)\n",
      "Total Epochs Covered:  1170  Loss Value:  tf.Tensor(0.008445079, shape=(), dtype=float32)\n",
      "Total Epochs Covered:  1160  Loss Value:  tf.Tensor(0.011036928, shape=(), dtype=float32)\n",
      "Total Epochs Covered:  1150  Loss Value:  tf.Tensor(0.0010914957, shape=(), dtype=float32)\n",
      "Total Epochs Covered:  1140  Loss Value:  tf.Tensor(0.85484, shape=(), dtype=float32)\n",
      "Total Epochs Covered:  1130  Loss Value:  tf.Tensor(0.0010865189, shape=(), dtype=float32)\n",
      "Total Epochs Covered:  1120  Loss Value:  tf.Tensor(0.00035188496, shape=(), dtype=float32)\n",
      "Total Epochs Covered:  1110  Loss Value:  tf.Tensor(0.00021869961, shape=(), dtype=float32)\n",
      "Total Epochs Covered:  1100  Loss Value:  tf.Tensor(5.8368692e-05, shape=(), dtype=float32)\n",
      "Total Epochs Covered:  1090  Loss Value:  tf.Tensor(3.132919e-05, shape=(), dtype=float32)\n",
      "Total Epochs Covered:  1080  Loss Value:  tf.Tensor(1.8716186e-05, shape=(), dtype=float32)\n",
      "Total Epochs Covered:  1070  Loss Value:  tf.Tensor(1.1479971e-05, shape=(), dtype=float32)\n",
      "Total Epochs Covered:  1060  Loss Value:  tf.Tensor(7.164522e-06, shape=(), dtype=float32)\n",
      "Total Epochs Covered:  1050  Loss Value:  tf.Tensor(4.649179e-06, shape=(), dtype=float32)\n",
      "Total Epochs Covered:  1040  Loss Value:  tf.Tensor(3.0994483e-06, shape=(), dtype=float32)\n",
      "Total Epochs Covered:  1030  Loss Value:  tf.Tensor(2.1100077e-06, shape=(), dtype=float32)\n",
      "Total Epochs Covered:  1020  Loss Value:  tf.Tensor(1.3589872e-06, shape=(), dtype=float32)\n",
      "Total Epochs Covered:  1010  Loss Value:  tf.Tensor(8.2254456e-07, shape=(), dtype=float32)\n",
      "Total Epochs Covered:  1000  Loss Value:  tf.Tensor(4.8875825e-07, shape=(), dtype=float32)\n",
      "Total Epochs Covered:  990  Loss Value:  tf.Tensor(2.8610233e-07, shape=(), dtype=float32)\n",
      "Total Epochs Covered:  980  Loss Value:  tf.Tensor(1.9073488e-07, shape=(), dtype=float32)\n",
      "Total Epochs Covered:  970  Loss Value:  tf.Tensor(1.4305115e-07, shape=(), dtype=float32)\n",
      "Total Epochs Covered:  960  Loss Value:  tf.Tensor(1.1920929e-07, shape=(), dtype=float32)\n",
      "Total Epochs Covered:  950  Loss Value:  tf.Tensor(1.1920929e-07, shape=(), dtype=float32)\n",
      "Total Epochs Covered:  940  Loss Value:  tf.Tensor(1.1920929e-07, shape=(), dtype=float32)\n",
      "Total Epochs Covered:  930  Loss Value:  tf.Tensor(1.1920929e-07, shape=(), dtype=float32)\n",
      "Total Epochs Covered:  920  Loss Value:  tf.Tensor(1.1920929e-07, shape=(), dtype=float32)\n",
      "Total Epochs Covered:  910  Loss Value:  tf.Tensor(1.1920929e-07, shape=(), dtype=float32)\n",
      "Total Epochs Covered:  900  Loss Value:  tf.Tensor(1.1920929e-07, shape=(), dtype=float32)\n",
      "Total Epochs Covered:  890  Loss Value:  tf.Tensor(1.1920929e-07, shape=(), dtype=float32)\n",
      "Total Epochs Covered:  880  Loss Value:  tf.Tensor(1.1920929e-07, shape=(), dtype=float32)\n",
      "Total Epochs Covered:  870  Loss Value:  tf.Tensor(1.1920929e-07, shape=(), dtype=float32)\n",
      "Total Epochs Covered:  860  Loss Value:  tf.Tensor(1.1920929e-07, shape=(), dtype=float32)\n",
      "Total Epochs Covered:  850  Loss Value:  tf.Tensor(1.1920929e-07, shape=(), dtype=float32)\n",
      "Total Epochs Covered:  840  Loss Value:  tf.Tensor(1.1920929e-07, shape=(), dtype=float32)\n",
      "Total Epochs Covered:  830  Loss Value:  tf.Tensor(1.1920929e-07, shape=(), dtype=float32)\n",
      "Total Epochs Covered:  820  Loss Value:  tf.Tensor(1.1920929e-07, shape=(), dtype=float32)\n",
      "Total Epochs Covered:  810  Loss Value:  tf.Tensor(1.1920929e-07, shape=(), dtype=float32)\n",
      "Total Epochs Covered:  800  Loss Value:  tf.Tensor(1.1920929e-07, shape=(), dtype=float32)\n",
      "Total Epochs Covered:  790  Loss Value:  tf.Tensor(1.1920929e-07, shape=(), dtype=float32)\n",
      "Total Epochs Covered:  780  Loss Value:  tf.Tensor(1.1920929e-07, shape=(), dtype=float32)\n",
      "Total Epochs Covered:  770  Loss Value:  tf.Tensor(1.1920929e-07, shape=(), dtype=float32)\n",
      "Total Epochs Covered:  760  Loss Value:  tf.Tensor(1.1920929e-07, shape=(), dtype=float32)\n",
      "Total Epochs Covered:  750  Loss Value:  tf.Tensor(1.1920929e-07, shape=(), dtype=float32)\n",
      "Total Epochs Covered:  740  Loss Value:  tf.Tensor(1.1920929e-07, shape=(), dtype=float32)\n",
      "Total Epochs Covered:  730  Loss Value:  tf.Tensor(1.1920929e-07, shape=(), dtype=float32)\n",
      "Total Epochs Covered:  720  Loss Value:  tf.Tensor(1.1920929e-07, shape=(), dtype=float32)\n",
      "Total Epochs Covered:  710  Loss Value:  tf.Tensor(1.1920929e-07, shape=(), dtype=float32)\n",
      "Total Epochs Covered:  700  Loss Value:  tf.Tensor(1.1920929e-07, shape=(), dtype=float32)\n",
      "Total Epochs Covered:  690  Loss Value:  tf.Tensor(1.1920929e-07, shape=(), dtype=float32)\n",
      "Total Epochs Covered:  680  Loss Value:  tf.Tensor(1.1920929e-07, shape=(), dtype=float32)\n",
      "Total Epochs Covered:  670  Loss Value:  tf.Tensor(1.1920929e-07, shape=(), dtype=float32)\n",
      "Total Epochs Covered:  660  Loss Value:  tf.Tensor(1.1920929e-07, shape=(), dtype=float32)\n",
      "Total Epochs Covered:  650  Loss Value:  tf.Tensor(1.1920929e-07, shape=(), dtype=float32)\n",
      "Total Epochs Covered:  640  Loss Value:  tf.Tensor(1.1920929e-07, shape=(), dtype=float32)\n",
      "Total Epochs Covered:  630  Loss Value:  tf.Tensor(1.1920929e-07, shape=(), dtype=float32)\n",
      "Total Epochs Covered:  620  Loss Value:  tf.Tensor(1.1920929e-07, shape=(), dtype=float32)\n",
      "Total Epochs Covered:  610  Loss Value:  tf.Tensor(1.1920929e-07, shape=(), dtype=float32)\n",
      "Total Epochs Covered:  600  Loss Value:  tf.Tensor(1.1920929e-07, shape=(), dtype=float32)\n",
      "Total Epochs Covered:  590  Loss Value:  tf.Tensor(1.1920929e-07, shape=(), dtype=float32)\n",
      "Total Epochs Covered:  580  Loss Value:  tf.Tensor(1.1920929e-07, shape=(), dtype=float32)\n",
      "Total Epochs Covered:  570  Loss Value:  tf.Tensor(1.1920929e-07, shape=(), dtype=float32)\n",
      "Total Epochs Covered:  560  Loss Value:  tf.Tensor(1.1920929e-07, shape=(), dtype=float32)\n",
      "Total Epochs Covered:  550  Loss Value:  tf.Tensor(1.1920929e-07, shape=(), dtype=float32)\n",
      "Total Epochs Covered:  540  Loss Value:  tf.Tensor(1.1920929e-07, shape=(), dtype=float32)\n",
      "Total Epochs Covered:  530  Loss Value:  tf.Tensor(1.1920929e-07, shape=(), dtype=float32)\n",
      "Total Epochs Covered:  520  Loss Value:  tf.Tensor(1.1920929e-07, shape=(), dtype=float32)\n",
      "Total Epochs Covered:  510  Loss Value:  tf.Tensor(1.1920929e-07, shape=(), dtype=float32)\n",
      "Total Epochs Covered:  500  Loss Value:  tf.Tensor(1.1920929e-07, shape=(), dtype=float32)\n",
      "Total Epochs Covered:  490  Loss Value:  tf.Tensor(1.1920929e-07, shape=(), dtype=float32)\n",
      "Total Epochs Covered:  480  Loss Value:  tf.Tensor(1.1920929e-07, shape=(), dtype=float32)\n",
      "Total Epochs Covered:  470  Loss Value:  tf.Tensor(1.1920929e-07, shape=(), dtype=float32)\n",
      "Total Epochs Covered:  460  Loss Value:  tf.Tensor(1.1920929e-07, shape=(), dtype=float32)\n",
      "Total Epochs Covered:  450  Loss Value:  tf.Tensor(1.1920929e-07, shape=(), dtype=float32)\n",
      "Total Epochs Covered:  440  Loss Value:  tf.Tensor(1.1920929e-07, shape=(), dtype=float32)\n",
      "Total Epochs Covered:  430  Loss Value:  tf.Tensor(1.1920929e-07, shape=(), dtype=float32)\n",
      "Total Epochs Covered:  420  Loss Value:  tf.Tensor(1.1920929e-07, shape=(), dtype=float32)\n",
      "Total Epochs Covered:  410  Loss Value:  tf.Tensor(1.1920929e-07, shape=(), dtype=float32)\n",
      "Total Epochs Covered:  400  Loss Value:  tf.Tensor(1.1920929e-07, shape=(), dtype=float32)\n",
      "Total Epochs Covered:  390  Loss Value:  tf.Tensor(1.1920929e-07, shape=(), dtype=float32)\n",
      "Total Epochs Covered:  380  Loss Value:  tf.Tensor(1.1920929e-07, shape=(), dtype=float32)\n",
      "Total Epochs Covered:  370  Loss Value:  tf.Tensor(1.1920929e-07, shape=(), dtype=float32)\n",
      "Total Epochs Covered:  360  Loss Value:  tf.Tensor(1.1920929e-07, shape=(), dtype=float32)\n",
      "Total Epochs Covered:  350  Loss Value:  tf.Tensor(1.1920929e-07, shape=(), dtype=float32)\n",
      "Total Epochs Covered:  340  Loss Value:  tf.Tensor(1.1920929e-07, shape=(), dtype=float32)\n",
      "Total Epochs Covered:  330  Loss Value:  tf.Tensor(1.1920929e-07, shape=(), dtype=float32)\n",
      "Total Epochs Covered:  320  Loss Value:  tf.Tensor(1.1920929e-07, shape=(), dtype=float32)\n",
      "Total Epochs Covered:  310  Loss Value:  tf.Tensor(1.1920929e-07, shape=(), dtype=float32)\n",
      "Total Epochs Covered:  300  Loss Value:  tf.Tensor(1.1920929e-07, shape=(), dtype=float32)\n"
     ]
    },
    {
     "name": "stdout",
     "output_type": "stream",
     "text": [
      "Total Epochs Covered:  290  Loss Value:  tf.Tensor(1.1920929e-07, shape=(), dtype=float32)\n",
      "Total Epochs Covered:  280  Loss Value:  tf.Tensor(1.1920929e-07, shape=(), dtype=float32)\n",
      "Total Epochs Covered:  270  Loss Value:  tf.Tensor(1.1920929e-07, shape=(), dtype=float32)\n",
      "Total Epochs Covered:  260  Loss Value:  tf.Tensor(1.1920929e-07, shape=(), dtype=float32)\n",
      "Total Epochs Covered:  250  Loss Value:  tf.Tensor(1.1920929e-07, shape=(), dtype=float32)\n",
      "Total Epochs Covered:  240  Loss Value:  tf.Tensor(1.1920929e-07, shape=(), dtype=float32)\n",
      "Total Epochs Covered:  230  Loss Value:  tf.Tensor(1.1920929e-07, shape=(), dtype=float32)\n",
      "Total Epochs Covered:  220  Loss Value:  tf.Tensor(1.1920929e-07, shape=(), dtype=float32)\n",
      "Total Epochs Covered:  210  Loss Value:  tf.Tensor(1.1920929e-07, shape=(), dtype=float32)\n",
      "Total Epochs Covered:  200  Loss Value:  tf.Tensor(1.1920929e-07, shape=(), dtype=float32)\n",
      "Total Epochs Covered:  190  Loss Value:  tf.Tensor(1.1920929e-07, shape=(), dtype=float32)\n",
      "Total Epochs Covered:  180  Loss Value:  tf.Tensor(1.1920929e-07, shape=(), dtype=float32)\n",
      "Total Epochs Covered:  170  Loss Value:  tf.Tensor(1.1920929e-07, shape=(), dtype=float32)\n",
      "Total Epochs Covered:  160  Loss Value:  tf.Tensor(1.1920929e-07, shape=(), dtype=float32)\n",
      "Total Epochs Covered:  150  Loss Value:  tf.Tensor(1.1920929e-07, shape=(), dtype=float32)\n",
      "Total Epochs Covered:  140  Loss Value:  tf.Tensor(1.1920929e-07, shape=(), dtype=float32)\n",
      "Total Epochs Covered:  130  Loss Value:  tf.Tensor(1.1920929e-07, shape=(), dtype=float32)\n",
      "Total Epochs Covered:  120  Loss Value:  tf.Tensor(1.1920929e-07, shape=(), dtype=float32)\n",
      "Total Epochs Covered:  110  Loss Value:  tf.Tensor(1.1920929e-07, shape=(), dtype=float32)\n",
      "Total Epochs Covered:  100  Loss Value:  tf.Tensor(1.1920929e-07, shape=(), dtype=float32)\n",
      "Total Epochs Covered:  90  Loss Value:  tf.Tensor(1.1920929e-07, shape=(), dtype=float32)\n",
      "Total Epochs Covered:  80  Loss Value:  tf.Tensor(1.1920929e-07, shape=(), dtype=float32)\n",
      "Total Epochs Covered:  70  Loss Value:  tf.Tensor(1.1920929e-07, shape=(), dtype=float32)\n",
      "Total Epochs Covered:  60  Loss Value:  tf.Tensor(1.1920929e-07, shape=(), dtype=float32)\n",
      "Total Epochs Covered:  50  Loss Value:  tf.Tensor(1.1920929e-07, shape=(), dtype=float32)\n",
      "Total Epochs Covered:  40  Loss Value:  tf.Tensor(1.1920929e-07, shape=(), dtype=float32)\n",
      "Total Epochs Covered:  30  Loss Value:  tf.Tensor(1.1920929e-07, shape=(), dtype=float32)\n",
      "Total Epochs Covered:  20  Loss Value:  tf.Tensor(1.1920929e-07, shape=(), dtype=float32)\n",
      "Total Epochs Covered:  10  Loss Value:  tf.Tensor(1.1920929e-07, shape=(), dtype=float32)\n"
     ]
    }
   ],
   "source": [
    " \n",
    "num_hiddens = 512        # declaration of number of hidden layers\n",
    "lr=0.1                   # declaration of regularization parameter\n",
    "seq_len=10               # this is a sequence length\n",
    "updater = tf.keras.optimizers.SGD(lr)\n",
    "# data_reader = DataReader(\"temp.txt\", seq_len)\n",
    "#defining the required params:\n",
    "params = get_lstm_params(len(chars), num_hiddens)\n",
    "\n",
    "lstm_model=LSTMModelScratch(len(chars), num_hiddens, init_gru_state, gru_train_forward_prop, word2vec_model)\n",
    "lstm_loss_res=train_network(lstm_model, params, table_map, char_to_ix, ix_to_char)\n",
    "\n"
   ]
  },
  {
   "cell_type": "markdown",
   "metadata": {},
   "source": [
    "# The Deep Learning Loss Function for Different Models (RNN and LSTM)"
   ]
  },
  {
   "cell_type": "code",
   "execution_count": 51,
   "metadata": {},
   "outputs": [
    {
     "data": {
      "image/png": "[encoded data removed]",
      "text/plain": [
       "<Figure size 432x288 with 1 Axes>"
      ]
     },
     "metadata": {
      "needs_background": "light"
     },
     "output_type": "display_data"
    }
   ],
   "source": [
    "import matplotlib.pyplot as plt\n",
    "plt.plot(lstm_loss_res)\n",
    "plt.ylabel('Loss')\n",
    "plt.xlabel('Epochs')\n",
    "plt.show()"
   ]
  },
  {
   "cell_type": "code",
   "execution_count": 52,
   "metadata": {},
   "outputs": [
    {
     "data": {
      "image/png": "[encoded data removed]",
      "text/plain": [
       "<Figure size 432x288 with 1 Axes>"
      ]
     },
     "metadata": {
      "needs_background": "light"
     },
     "output_type": "display_data"
    }
   ],
   "source": [
    "import matplotlib.pyplot as plt\n",
    "plt.plot(rnn_loss_res)\n",
    "plt.ylabel('Loss')\n",
    "plt.xlabel('Epochs')\n",
    "plt.show()"
   ]
  },
  {
   "cell_type": "code",
   "execution_count": 53,
   "metadata": {},
   "outputs": [
    {
     "data": {
      "image/png": "[encoded data removed]",
      "text/plain": [
       "<Figure size 432x288 with 1 Axes>"
      ]
     },
     "metadata": {
      "needs_background": "light"
     },
     "output_type": "display_data"
    }
   ],
   "source": [
    "plt.plot(rnn_loss_res)\n",
    "plt.plot(lstm_loss_res)\n",
    "plt.ylabel('Loss')\n",
    "plt.xlabel('Epochs')\n",
    "plt.legend([\"RNN Loss\", \"LSTM Loss\"])\n",
    "plt.show()\n"
   ]
  },
  {
   "cell_type": "markdown",
   "metadata": {},
   "source": [
    "# Evaluating the Plot for the Test Data"
   ]
  },
  {
   "cell_type": "code",
   "execution_count": null,
   "metadata": {},
   "outputs": [],
   "source": []
  },
  {
   "cell_type": "code",
   "execution_count": 69,
   "metadata": {},
   "outputs": [],
   "source": [
    "def evaluate_TestData(model, params, table_map, char_to_ix, ix_to_char, eval_data):\n",
    "    \n",
    "    \"traing the modified model\"\n",
    "    state=None\n",
    "    \n",
    "    threshold = 0.05\n",
    "    lr=1\n",
    "    loss = tf.keras.losses.CategoricalCrossentropy()\n",
    "    updater = tf.keras.optimizers.SGD(lr)\n",
    "    optimizer = tf.keras.optimizers.Adam()\n",
    "    loss_res=[] # storage for the resultant loss\n",
    "    loss_epochs = [] #keeping of the loss per epoch\n",
    "    epochs = 1200\n",
    "    \n",
    "    loss_per_epoch=0\n",
    "\n",
    "    for every_table in eval_data:\n",
    "\n",
    "        #padding the current word\n",
    "        target_word = \"$\"+every_table+\"&\"\n",
    "        input_str = target_word[0:len(target_word)-1]\n",
    "        target_str = target_word[1:len(target_word)]\n",
    "\n",
    "        inputs = [char_to_ix[ch] for ch in input_str]\n",
    "        targets = [char_to_ix[ch] for ch in target_str]\n",
    "\n",
    "        X = tf.reshape(tf.Variable(inputs), (1, len(inputs)))\n",
    "        Y_out = tf.reshape(tf.Variable(targets), (1, len(targets)))\n",
    "        Y_true=tf.one_hot(Y_out, len(char_to_ix),on_value=1.0, off_value=0.0,axis=-1)\n",
    "        Y_true=Y_true[0];\n",
    "\n",
    "\n",
    "        # The actual crux of training the data:\n",
    "\n",
    "        if state is None:\n",
    "\n",
    "            state = model.begin_state(batch_size=X.shape[0])\n",
    "\n",
    "        with tf.GradientTape(persistent=True) as g:\n",
    "            g.watch(params)\n",
    "            y_hat, state= model(X, state, params, table_map[every_table])\n",
    "            y = tf.reshape(Y_out, (-1))\n",
    "            axis_0 = np.shape(y_hat.numpy())[0]\n",
    "            axis_1 = np.shape(y_hat.numpy())[1]\n",
    "            Y_true=tf.reshape(Y_true, [axis_0, axis_1])\n",
    "            # calculating the loss\n",
    "            l = loss(Y_true, y_hat)\n",
    "\n",
    "\n",
    "        loss_per_epoch=l\n",
    "\n",
    "#     if epochs%10==0:\n",
    "#         print(\"Total Epochs Covered: \", epochs, \" Loss Value: \", loss_per_epoch)\n",
    "\n",
    "    # after every epoch\n",
    "        loss_epochs.append(loss_per_epoch)\n",
    "    \n",
    "    return loss_epochs\n",
    "    "
   ]
  },
  {
   "cell_type": "markdown",
   "metadata": {},
   "source": [
    "# Collecting the evaluation data:\n",
    "    "
   ]
  },
  {
   "cell_type": "code",
   "execution_count": 70,
   "metadata": {},
   "outputs": [
    {
     "data": {
      "text/plain": [
       "50"
      ]
     },
     "execution_count": 70,
     "metadata": {},
     "output_type": "execute_result"
    }
   ],
   "source": [
    "eval_sent=[]\n",
    "\n",
    "for _ in range(50):\n",
    "    eval_sent.append(random.choice(inp))\n",
    "    \n",
    "len(eval_sent)"
   ]
  },
  {
   "cell_type": "code",
   "execution_count": 71,
   "metadata": {},
   "outputs": [
    {
     "name": "stderr",
     "output_type": "stream",
     "text": [
      "/Users/kedargn94/anaconda3/lib/python3.7/site-packages/ipykernel_launcher.py:8: DeprecationWarning: Call to deprecated `__getitem__` (Method will be removed in 4.0.0, use self.wv.__getitem__() instead).\n",
      "  \n"
     ]
    }
   ],
   "source": [
    "eval_loss_rnn = evaluate_TestData(rnn_model, rnn_params, table_map, char_to_ix, ix_to_char, eval_sent)"
   ]
  },
  {
   "cell_type": "code",
   "execution_count": 72,
   "metadata": {},
   "outputs": [],
   "source": [
    "eval_loss_lstm =evaluate_TestData(lstm_model, params, table_map, char_to_ix, ix_to_char, eval_sent)"
   ]
  },
  {
   "cell_type": "code",
   "execution_count": 73,
   "metadata": {},
   "outputs": [
    {
     "data": {
      "image/png": "[encoded data removed]",
      "text/plain": [
       "<Figure size 432x288 with 1 Axes>"
      ]
     },
     "metadata": {
      "needs_background": "light"
     },
     "output_type": "display_data"
    }
   ],
   "source": [
    "\n",
    "\n",
    "plt.plot(eval_loss_rnn)\n",
    "plt.plot(eval_loss_lstm)\n",
    "plt.ylabel('Eval Loss')\n",
    "plt.xlabel('Epochs')\n",
    "plt.legend([\"RNN Eval Loss\", \"LSTM Eval Loss\"])\n",
    "plt.show()\n",
    "\n"
   ]
  },
  {
   "cell_type": "code",
   "execution_count": null,
   "metadata": {},
   "outputs": [],
   "source": [
    "#Saving the LSTM and RNN params"
   ]
  }
 ],
 "metadata": {
  "kernelspec": {
   "display_name": "Python 3",
   "language": "python",
   "name": "python3"
  },
  "language_info": {
   "codemirror_mode": {
    "name": "ipython",
    "version": 3
   },
   "file_extension": ".py",
   "mimetype": "text/x-python",
   "name": "python",
   "nbconvert_exporter": "python",
   "pygments_lexer": "ipython3",
   "version": "3.7.3"
  }
 },
 "nbformat": 4,
 "nbformat_minor": 2
}
